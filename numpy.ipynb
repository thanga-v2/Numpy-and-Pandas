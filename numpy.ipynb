{
 "cells": [
  {
   "cell_type": "code",
   "execution_count": 3,
   "id": "ffe6fb83-f635-40f4-aa6f-16904496723d",
   "metadata": {},
   "outputs": [],
   "source": [
    "\n",
    "\n",
    "# linear algebra\n",
    "\n",
    "# helps to find the linear transformation between two variables\n",
    "\n",
    "\n",
    "# numpy - linear algebra library for Python. made of c++\n",
    "\n",
    "\n",
    "# the first image of a black hole was clicked using NumPy"
   ]
  },
  {
   "cell_type": "code",
   "execution_count": 11,
   "id": "083f0a98-8272-47e4-946d-8497dad8981c",
   "metadata": {},
   "outputs": [
    {
     "name": "stdout",
     "output_type": "stream",
     "text": [
      "[11 24 56 78]\n",
      "[[  1   2   3]\n",
      " [ -8  -9   0]\n",
      " [-11   0   1]]\n"
     ]
    }
   ],
   "source": [
    "import numpy as np\n",
    "\n",
    "# vector - 1 D array\n",
    "# Matrices - 2 D array\n",
    "\n",
    "vector = [11,24,56,78]\n",
    "n1=np.array(vector)\n",
    "print(n1)\n",
    "\n",
    "\n",
    "\n",
    "matrix = ([1,2,3],[-8,-9,0],[-11,0,1])\n",
    "n2=np.array(matrix)\n",
    "print(n2)"
   ]
  },
  {
   "cell_type": "code",
   "execution_count": 13,
   "id": "55ccab15-3121-4e94-a9a4-dd2078a92a1d",
   "metadata": {},
   "outputs": [
    {
     "data": {
      "text/plain": [
       "numpy.ndarray"
      ]
     },
     "execution_count": 13,
     "metadata": {},
     "output_type": "execute_result"
    }
   ],
   "source": [
    "# checking the type\n",
    "\n",
    "\n",
    "type(n1)\n",
    "type(n2)"
   ]
  },
  {
   "cell_type": "code",
   "execution_count": 58,
   "id": "47be0bb9-58bb-4d20-a06f-dfe84106eff7",
   "metadata": {},
   "outputs": [
    {
     "name": "stdout",
     "output_type": "stream",
     "text": [
      "[0. 0. 0.]\n",
      "[[0. 0. 0. 0.]\n",
      " [0. 0. 0. 0.]\n",
      " [0. 0. 0. 0.]]\n",
      "[[0 0 0]\n",
      " [0 0 0]\n",
      " [0 0 0]]\n",
      "[[1 1 1]\n",
      " [1 1 1]\n",
      " [1 1 1]]\n",
      "[ 0.          0.69387755  1.3877551   2.08163265  2.7755102   3.46938776\n",
      "  4.16326531  4.85714286  5.55102041  6.24489796  6.93877551  7.63265306\n",
      "  8.32653061  9.02040816  9.71428571 10.40816327 11.10204082 11.79591837\n",
      " 12.48979592 13.18367347 13.87755102 14.57142857 15.26530612 15.95918367\n",
      " 16.65306122 17.34693878 18.04081633 18.73469388 19.42857143 20.12244898\n",
      " 20.81632653 21.51020408 22.20408163 22.89795918 23.59183673 24.28571429\n",
      " 24.97959184 25.67346939 26.36734694 27.06122449 27.75510204 28.44897959\n",
      " 29.14285714 29.83673469 30.53061224 31.2244898  31.91836735 32.6122449\n",
      " 33.30612245 34.        ]\n",
      "[ 0  1  2  3  4  5  6  7  8  9 10 11 12 13 14 15 16 17 18 19 20 21 22 23\n",
      " 24 25 26 27 28 29]\n",
      "[ 0.          1.11111111  2.22222222  3.33333333  4.44444444  5.55555556\n",
      "  6.66666667  7.77777778  8.88888889 10.        ]\n",
      "[[1. 0. 0. 0.]\n",
      " [0. 1. 0. 0.]\n",
      " [0. 0. 1. 0.]\n",
      " [0. 0. 0. 1.]]\n",
      "[0.11325022 0.76622986 0.276385   0.94714156 0.32243784 0.42919966\n",
      " 0.08984578 0.9683378  0.40809271 0.58476431]\n",
      "[[0.23629274 0.17103178 0.50191452 0.41917097 0.62209947]\n",
      " [0.29256386 0.38183559 0.68022051 0.96682672 0.88106561]\n",
      " [0.70354336 0.79768761 0.88678794 0.25792924 0.57702387]\n",
      " [0.31050372 0.20870554 0.32186514 0.15678133 0.59840462]\n",
      " [0.50745494 0.22853108 0.41984551 0.26715496 0.47816122]]\n",
      "\n",
      " 3d array \n",
      " [[[0.45774124 0.37735058 0.73596298 0.39021495]\n",
      "  [0.24281943 0.53522185 0.47447791 0.07512833]\n",
      "  [0.25874923 0.40155466 0.34479131 0.37815412]]\n",
      "\n",
      " [[0.25130119 0.48427273 0.11652783 0.42711713]\n",
      "  [0.79739136 0.05602448 0.50930277 0.58229801]\n",
      "  [0.44513187 0.23109804 0.19080548 0.92484474]]\n",
      "\n",
      " [[0.68990247 0.08304553 0.30331486 0.36176891]\n",
      "  [0.13393058 0.96840627 0.80097934 0.19263798]\n",
      "  [0.29262915 0.32236796 0.02101965 0.36821628]]]\n",
      "[-1.74918961  1.05734932 -0.80933367]\n",
      "[27 64 29 97 81 43 61 15]\n"
     ]
    }
   ],
   "source": [
    "# built-in functions\n",
    "\n",
    "# arange\n",
    "\n",
    "t = np.arange(60,160,5)\n",
    "t\n",
    "\n",
    "a = np.arange(10,500,63)\n",
    "a\n",
    "\n",
    "\n",
    "# zeros\n",
    "\n",
    "\n",
    "# one dimensions\n",
    "z = np.zeros(3)\n",
    "print(z)\n",
    "\n",
    "\n",
    "# two dimensions\n",
    "z2=np.zeros((3,4))\n",
    "print(z2)\n",
    "\n",
    "# without decimal points\n",
    "\n",
    "z3 = np.zeros((3,3), dtype=int)\n",
    "print(z3)\n",
    "\n",
    "\n",
    "\n",
    "# ones\n",
    "\n",
    "one=np.ones((3,3), dtype = int)\n",
    "print(one)\n",
    "\n",
    "\n",
    "\n",
    "\n",
    "\n",
    "\n",
    "# linspace\n",
    "\n",
    "# returns evenly spaced number over an interval\n",
    "\n",
    "# np.linspace(start,stop,num)\n",
    "\n",
    "x=np.linspace(0,34)\n",
    "\n",
    "# np.linspace(0,34) would generate an array of 34 evenly spaced numbers between 0 and 34, inclusive.\n",
    "\n",
    "# In linspace, the difference between two consecutive numbers is always the same\n",
    "# in below example: 0.69387755 - 1.3877551 = 0.69387755\n",
    "# 1.3877551 - 2.08163265 = 0.69387755\n",
    "# 2.08163265 - 2.7755102 = 0.69387755\n",
    "\n",
    "y=np.arange(0,30)\n",
    "\n",
    "# np.arange(0,10) would generate an array containing values from 0 up to, but not including, 10 with a step size of 1.\n",
    "\n",
    "\n",
    "print(x)\n",
    "print(y)\n",
    "\n",
    "\n",
    "# 10 values between 0 and 10 that should be evenly split\n",
    "\n",
    "test= np.linspace(0,10,10)\n",
    "print(test)\n",
    "\n",
    "\n",
    "\n",
    "\n",
    "# eye\n",
    "\n",
    "\n",
    "# like identity matrix\n",
    "\n",
    "print(np.eye(4))\n",
    "\n",
    "\n",
    "\n",
    "# random\n",
    "\n",
    "# random.rand() generates in a uniform distribution\n",
    "\n",
    "print(np.random.rand(10))\n",
    "\n",
    "n = np.random.rand(5,5)\n",
    "print(n)\n",
    "\n",
    "n3 = np.random.rand(3,3,4)\n",
    "print(\"\\n 3d array \\n\",n3)\n",
    "\n",
    "\n",
    "\n",
    "\n",
    "\n",
    "\n",
    "\n",
    "# random.randn() -> normal distribution\n",
    "\n",
    "\n",
    "norm = np.random.randn(3)\n",
    "print(norm)\n",
    "\n",
    "\n",
    "# random.randint(low,high,count) -> discrete uniform distribution\n",
    "\n",
    "print(np.random.randint(10,104,8))"
   ]
  },
  {
   "cell_type": "code",
   "execution_count": 90,
   "id": "47ac21a7-0fbf-4d8f-92d5-15419e559f40",
   "metadata": {},
   "outputs": [
    {
     "name": "stdout",
     "output_type": "stream",
     "text": [
      "[10 11 12 13 14 15 16 17 18 19 20 21 22 23 24]\n",
      "[18 11 23 16 22 12 14 18 18 19 11 17 10 18 16 14 12 17 21 20 12 15 13 19\n",
      " 23 21 23 10 17 12]\n",
      "arr reshape \n",
      " [[10 11 12 13 14]\n",
      " [15 16 17 18 19]\n",
      " [20 21 22 23 24]]\n",
      "arr1 reshape \n",
      " [[18 11 23 16 22]\n",
      " [12 14 18 18 19]\n",
      " [11 17 10 18 16]\n",
      " [14 12 17 21 20]\n",
      " [12 15 13 19 23]\n",
      " [21 23 10 17 12]]\n",
      "arr2 reshape \n",
      " [[18]\n",
      " [11]\n",
      " [23]\n",
      " [16]\n",
      " [22]\n",
      " [12]\n",
      " [14]\n",
      " [18]\n",
      " [18]\n",
      " [19]\n",
      " [11]\n",
      " [17]\n",
      " [10]\n",
      " [18]\n",
      " [16]\n",
      " [14]\n",
      " [12]\n",
      " [17]\n",
      " [21]\n",
      " [20]\n",
      " [12]\n",
      " [15]\n",
      " [13]\n",
      " [19]\n",
      " [23]\n",
      " [21]\n",
      " [23]\n",
      " [10]\n",
      " [17]\n",
      " [12]]\n",
      "0\n",
      "14\n",
      "shape is \n",
      " (3, 6)\n",
      "n1 is \n",
      " [[-0.55251146 -0.83147608  1.03009145 -0.48032899 -0.52224644  1.45634415]\n",
      " [-0.04985395 -1.06150187  0.51562024  0.74318093 -0.77944209 -0.16472922]\n",
      " [ 0.49306242 -0.31396498  0.07554375  1.23880962 -1.39741112 -0.11525674]]\n"
     ]
    },
    {
     "data": {
      "text/plain": [
       "dtype('float64')"
      ]
     },
     "execution_count": 90,
     "metadata": {},
     "output_type": "execute_result"
    }
   ],
   "source": [
    "\n",
    "\n",
    "# array attributes and methods\n",
    "\n",
    "\n",
    "\n",
    "\n",
    "arr = np.arange(10,25)\n",
    "print(arr)\n",
    "\n",
    "arr1 = np.random.randint(10,25,30)\n",
    "print(arr1)\n",
    "\n",
    "\n",
    "\n",
    "\n",
    "\n",
    "# reshape\n",
    "\n",
    "\n",
    "arr_reshape = arr.reshape(3,5)\n",
    "print(\"arr reshape \\n\",arr_reshape)\n",
    "\n",
    "arr1_reshape = arr1.reshape(6,5)\n",
    "print(\"arr1 reshape \\n\",arr1_reshape)\n",
    "\n",
    "arr2_reshape = arr1.reshape(30,1)\n",
    "print(\"arr2 reshape \\n\",arr2_reshape)\n",
    "\n",
    "\n",
    "# argmin and argmax\n",
    "\n",
    "# argmin -> gives the index of the minimum values\n",
    "# argmax -> gives the index of the maximum value\n",
    "\n",
    "\n",
    "print(np.argmin(arr))\n",
    "print(np.argmax(arr))\n",
    "\n",
    "\n",
    "# or \n",
    "\n",
    "arr.argmin()\n",
    "arr.argmax()\n",
    "\n",
    "\n",
    "\n",
    "\n",
    "# shape -> to check the dimensions of the array\n",
    "\n",
    "n1 = np.random.randn(3,6)\n",
    "n1.reshape(9,2)\n",
    "x = n1.shape\n",
    "print(\"shape is \\n\",x)\n",
    "print(\"n1 is \\n\",n1)\n",
    "\n",
    "\n",
    "n1.dtype"
   ]
  },
  {
   "cell_type": "code",
   "execution_count": 106,
   "id": "83e12255-1de1-45c0-8a5c-3a8cea687c4c",
   "metadata": {},
   "outputs": [
    {
     "name": "stdout",
     "output_type": "stream",
     "text": [
      "[23  7 51 32  1  9 20 53 59 58  6 53 50 35 25 50 59 36 42 30  0  8 11  8\n",
      " 19 27 30 22 13 14]\n",
      "[35 25 50 59]\n",
      "[23  7 51 32  1  9 20 53 59 58  6 53 50 35 25 50 59]\n",
      "[10 11 12 13 14 15 16 17 18 19 20 21 22 23 24]\n",
      "slice of an array \n",
      " [13 14 15 16 17]\n",
      "if we do that, it will get reflected in actual array itself \n",
      "\n",
      "slice of an array \n",
      " [1011 1011 1011 1011 1011]\n",
      "actual array \n",
      " [  10   11   12 1011 1011 1011 1011 1011   18   19   20   21   22   23\n",
      "   24]\n",
      "\n",
      " array [ 1  2  3  4  5  6  7  8  9 10 11 12 13 14 15 16 17 18 19 20 21 22 23 24\n",
      " 25 26 27 28 29 30 31 32 33 34 35 36 37 38 39 40 41 42 43 44 45 46 47 48\n",
      " 49 50 51 52 53 54 55 56 57 58 59]\n",
      "copy of array \n",
      " [ 1  2  3  4  5  6  7  8  9 10 11 12 13 14 15 16 17 18 19 20 21 22 23 24\n",
      " 25 26 27 28 29 30 31 32 33 34 35 36 37 38 39 40 41 42 43 44 45 46 47 48\n",
      " 49 50 51 52 53 54 55 56 57 58 59]\n",
      "copy \n",
      " [1056 1056 1056 1056 1056 1056 1056 1056 1056 1056 1056 1056 1056 1056\n",
      " 1056 1056 1056 1056 1056 1056 1056 1056 1056 1056 1056 1056 1056 1056\n",
      " 1056 1056 1056 1056 1056 1056 1056 1056 1056 1056 1056 1056 1056 1056\n",
      " 1056 1056 1056 1056 1056 1056 1056 1056 1056 1056 1056 1056 1056 1056\n",
      " 1056 1056 1056]\n",
      "actual array \n",
      " [ 1  2  3  4  5  6  7  8  9 10 11 12 13 14 15 16 17 18 19 20 21 22 23 24\n",
      " 25 26 27 28 29 30 31 32 33 34 35 36 37 38 39 40 41 42 43 44 45 46 47 48\n",
      " 49 50 51 52 53 54 55 56 57 58 59]\n"
     ]
    }
   ],
   "source": [
    "# numpy indexing and selection\n",
    "\n",
    "\n",
    "\n",
    "\n",
    "\n",
    "x = np.random.randint(0,60,30)\n",
    "print(x)\n",
    "print(x[13:17])\n",
    "print(x[:17])\n",
    "\n",
    "\n",
    "\n",
    "\n",
    "# grabbing an array  -> \n",
    "\n",
    "arr = np.arange(10,25)\n",
    "print(arr)\n",
    "slice_arr = arr[3:8]\n",
    "print(\"slice of an array \\n\",slice_arr)\n",
    "slice_arr[:] = 1011\n",
    "print(\"if we do that, it will get reflected in actual array itself \\n\")\n",
    "print(\"slice of an array \\n\",slice_arr)\n",
    "\n",
    "print(\"actual array \\n\",arr)\n",
    "\n",
    "\n",
    "\n",
    "# hence whenever we perform any analysis, we should make a copy\n",
    "\n",
    "arr = np.arange(1,60)\n",
    "print(\"\\n array\",arr)\n",
    "copy_of_arr = arr.copy()\n",
    "print(\"copy of array \\n\",copy_of_arr)\n",
    "copy_of_arr[:]=1056\n",
    "print(\"copy \\n\",copy_of_arr)\n",
    "print(\"actual array \\n\",arr)\n",
    "\n"
   ]
  },
  {
   "cell_type": "code",
   "execution_count": 135,
   "id": "e97b28c3-8307-488a-b1ef-e646921c1084",
   "metadata": {},
   "outputs": [
    {
     "name": "stdout",
     "output_type": "stream",
     "text": [
      "[[ 1  3  5]\n",
      " [55  6  7]\n",
      " [11  3  4]]\n",
      "[55  6  7]\n",
      "[11  3  4]\n",
      "3\n",
      "\n",
      " need to grab the 3,5 and 6,7 \n",
      " [[ 1  3  5]\n",
      " [55  6  7]\n",
      " [11  3  4]]\n",
      "[[ 1  3  5]\n",
      " [55  6  7]]\n",
      "[[3 5]\n",
      " [6 7]]\n"
     ]
    }
   ],
   "source": [
    "\n",
    "\n",
    "\n",
    "\n",
    "# 2 D array \n",
    "\n",
    "\n",
    "\n",
    "\n",
    "# Indexing on 2D array\n",
    "\n",
    "arr_2d = np.array([[1,3,5],[55,6,7],[11,3,4]])\n",
    "arr_2d\n",
    "\n",
    "print(arr_2d)\n",
    "\n",
    "# accessing first index\n",
    "\n",
    "\n",
    "print(arr_2d[1])\n",
    "\n",
    "# accessing second index\n",
    "\n",
    "print(arr_2d[2])\n",
    "\n",
    "print(arr_2d[2][1])\n",
    "\n",
    "\n",
    "# accessing the specific element\n",
    "\n",
    "print(\"\\n need to grab the 3,5 and 6,7 \\n\",arr_2d)\n",
    "\n",
    "# first lets exclude the elements which we don't need\n",
    "\n",
    "print(arr_2d[:2])\n",
    "\n",
    "# now lets take 3,5 and 6,7\n",
    "\n",
    "print(arr_2d[:2,1:])"
   ]
  },
  {
   "cell_type": "code",
   "execution_count": 164,
   "id": "98da1f5a-92e3-442f-8f8b-ad188c9fb1d0",
   "metadata": {},
   "outputs": [
    {
     "name": "stdout",
     "output_type": "stream",
     "text": [
      "[[ 1  3  5]\n",
      " [55  6  7]\n",
      " [11  3  4]]\n"
     ]
    },
    {
     "data": {
      "text/plain": [
       "array([1, 4])"
      ]
     },
     "execution_count": 164,
     "metadata": {},
     "output_type": "execute_result"
    }
   ],
   "source": [
    "arr_2d = np.array([\n",
    "    [1,3,5],\n",
    "    [55,6,7],\n",
    "    [11,3,4]])\n",
    "\n",
    "print(arr_2d)\n",
    "\n",
    "# arr_2d[[0, 2], [0, 2]]\n",
    "# arr_2d[row-indices[[coloumn-indices]\n",
    "# arr_2d[[0,2],[0,2]] -> row(0,0) and column(2,2)\n",
    "\n",
    "arr_2d[[0,2],[0,2]]"
   ]
  },
  {
   "cell_type": "code",
   "execution_count": 185,
   "id": "a751ed33-a440-4786-9773-1b2c5e70e728",
   "metadata": {},
   "outputs": [
    {
     "name": "stdout",
     "output_type": "stream",
     "text": [
      "[[ 1  3]\n",
      " [55  6]]\n"
     ]
    }
   ],
   "source": [
    "arr_2d = np.array([\n",
    "    [1,3,5],\n",
    "    [55,6,7],\n",
    "    [11,3,4]])\n",
    "\n",
    "# step 1: exclude the element\n",
    "\n",
    "# step 2: grab / slice from the rest\n",
    "\n",
    "# element we wanted to take - 1,3 and 55,6\n",
    "\n",
    "# arr_2d[exclude-row,min coloumn:max column]\n",
    "\n",
    "print(arr_2d[0:2,:2])"
   ]
  },
  {
   "cell_type": "code",
   "execution_count": 189,
   "id": "b309bef7-490e-44a1-a47e-df90f3281f73",
   "metadata": {},
   "outputs": [
    {
     "name": "stdout",
     "output_type": "stream",
     "text": [
      "[[6 7]\n",
      " [3 4]]\n"
     ]
    }
   ],
   "source": [
    "arr_2d = np.array([\n",
    "    [1,3,5],\n",
    "    [55,6,7],\n",
    "    [11,3,4]])\n",
    "\n",
    "# element we wanted to take - 6,7 and 3,4\n",
    "\n",
    "# step 1 - exclude element which we don't need\n",
    "\n",
    "print(arr_2d[1:,1:])\n"
   ]
  },
  {
   "cell_type": "code",
   "execution_count": 194,
   "id": "a481c6ad-2a78-492a-805b-ffd1a18ec89c",
   "metadata": {},
   "outputs": [
    {
     "name": "stdout",
     "output_type": "stream",
     "text": [
      "[[3 5]\n",
      " [3 4]]\n",
      "[[3 5]\n",
      " [6 7]]\n"
     ]
    }
   ],
   "source": [
    "arr_2d = np.array([\n",
    "    [1,3,5],\n",
    "    [55,6,7],\n",
    "    [11,3,4]])\n",
    "\n",
    "\n",
    "# elements we need -> 3,5 and 3,4\n",
    "\n",
    "# we need 0 and 2 rows starting coloumns 1 and 2\n",
    "\n",
    "# hence\n",
    "print(arr_2d[[0,2],1:])\n",
    "\n",
    "# elements we need -> 3,5 and 6,7\n",
    "print(arr_2d[[0,1],1:])"
   ]
  },
  {
   "cell_type": "code",
   "execution_count": 219,
   "id": "f5da5af2-7ddb-4035-ae42-88133e3b47b5",
   "metadata": {},
   "outputs": [
    {
     "name": "stdout",
     "output_type": "stream",
     "text": [
      "[1 4]\n"
     ]
    }
   ],
   "source": [
    "arr_2d = np.array([\n",
    "    [1,3,5],\n",
    "    [55,6,7],\n",
    "    [11,3,4]])\n",
    "\n",
    "arr_2d\n",
    "\n",
    "# element we want 1,11 and 5 and 4\n",
    "print(arr_2d[[0, 2], [0, 2]])\n",
    "\n"
   ]
  },
  {
   "cell_type": "code",
   "execution_count": 227,
   "id": "3031156f-8984-4991-8a07-462bb3c32030",
   "metadata": {},
   "outputs": [
    {
     "name": "stdout",
     "output_type": "stream",
     "text": [
      "[0. 0. 0. 0. 0.]\n",
      "[0. 0. 0. 0. 0.]\n",
      "[0. 0. 0. 0. 0.]\n",
      "[0. 0. 0. 0. 0.]\n",
      "[0. 0. 0. 0. 0.]\n"
     ]
    }
   ],
   "source": [
    "\n",
    "\n",
    "ar = np.zeros((5,5))\n",
    "ar\n",
    "\n",
    "ar_len = ar.shape[1]\n",
    "ar_len\n",
    "\n",
    "for i in range(ar_len):\n",
    "    print(ar[i])"
   ]
  },
  {
   "cell_type": "code",
   "execution_count": 228,
   "id": "bcacbef6-e980-4717-8095-4b8a999504d8",
   "metadata": {},
   "outputs": [
    {
     "name": "stdout",
     "output_type": "stream",
     "text": [
      "[[0. 0. 0. 0. 0.]\n",
      " [1. 1. 1. 1. 1.]\n",
      " [2. 2. 2. 2. 2.]\n",
      " [3. 3. 3. 3. 3.]\n",
      " [4. 4. 4. 4. 4.]]\n"
     ]
    }
   ],
   "source": [
    "\n",
    "\n",
    "ar = np.zeros((5,5))\n",
    "ar\n",
    "\n",
    "ar_len = ar.shape[1]\n",
    "ar_len\n",
    "\n",
    "for i in range(ar_len):\n",
    "    ar[i] = i\n",
    "\n",
    "\n",
    "print(ar)"
   ]
  },
  {
   "cell_type": "code",
   "execution_count": 231,
   "id": "6420b1ab-c2fe-4afa-9d96-b8071e70f082",
   "metadata": {},
   "outputs": [
    {
     "name": "stdout",
     "output_type": "stream",
     "text": [
      "[[0. 0. 0. 0. 0.]\n",
      " [1. 1. 1. 1. 1.]\n",
      " [2. 2. 2. 2. 2.]\n",
      " [3. 3. 3. 3. 3.]\n",
      " [4. 4. 4. 4. 4.]]\n"
     ]
    },
    {
     "data": {
      "text/plain": [
       "array([[0., 0., 0., 0., 0.],\n",
       "       [3., 3., 3., 3., 3.],\n",
       "       [4., 4., 4., 4., 4.]])"
      ]
     },
     "execution_count": 231,
     "metadata": {},
     "output_type": "execute_result"
    }
   ],
   "source": [
    "\n",
    "# fancy indexing\n",
    "\n",
    "ar = np.zeros((5,5))\n",
    "ar\n",
    "\n",
    "ar_len = ar.shape[1]\n",
    "ar_len\n",
    "\n",
    "for i in range(ar_len):\n",
    "    ar[i] = i\n",
    "\n",
    "\n",
    "print(ar)\n",
    "\n",
    "\n",
    "# fancy indexing, grabbing the rows we want\n",
    "\n",
    "ar[[0,3,4]]\n"
   ]
  },
  {
   "cell_type": "code",
   "execution_count": 249,
   "id": "d5eb3001-9081-4544-aaeb-9e93d3f636d0",
   "metadata": {},
   "outputs": [
    {
     "name": "stdout",
     "output_type": "stream",
     "text": [
      "[ 1  6 11 16 21 26 31 36 41 46 51 56 61 66]\n",
      "[False False False  True  True  True  True  True  True  True  True  True\n",
      "  True  True]\n",
      "[16 21 26 31 36 41 46 51 56 61 66]\n",
      "[16 21 26 31 36 41 46 51 56 61 66]\n"
     ]
    }
   ],
   "source": [
    "# selection\n",
    "\n",
    "\n",
    "ar = np.arange(1,70,5)\n",
    "print(ar)\n",
    "print(ar>15)\n",
    "\n",
    "bool_arr = ar>15\n",
    "\n",
    "\n",
    "# getting all the true values\n",
    "\n",
    "print(ar[bool_arr])\n",
    "\n",
    "print(ar[ar>15])"
   ]
  },
  {
   "cell_type": "code",
   "execution_count": 254,
   "id": "110063ad-ee7b-4b1c-bc87-feb457264bcd",
   "metadata": {},
   "outputs": [
    {
     "name": "stdout",
     "output_type": "stream",
     "text": [
      "[ 1  6 11 16 21 26 31 36 41 46 51 56 61 66]\n",
      "[  2  12  22  32  42  52  62  72  82  92 102 112 122 132]\n",
      "[0 0 0 0 0 0 0 0 0 0 0 0 0 0]\n",
      "[1. 1. 1. 1. 1. 1. 1. 1. 1. 1. 1. 1. 1. 1.]\n"
     ]
    }
   ],
   "source": [
    "# operation\n",
    "\n",
    "print(ar) \n",
    "\n",
    "print(ar + ar)\n",
    "\n",
    "print(ar - ar)\n",
    "\n",
    "print(ar / ar)"
   ]
  },
  {
   "cell_type": "code",
   "execution_count": 259,
   "id": "c9d7ce60-e5c4-41c7-af97-45fa91c7e287",
   "metadata": {},
   "outputs": [
    {
     "name": "stdout",
     "output_type": "stream",
     "text": [
      "[ 1  6 11 16 21 26 31 36 41 46 51 56 61 66]\n",
      "[1.         2.44948974 3.31662479 4.         4.58257569 5.09901951\n",
      " 5.56776436 6.         6.40312424 6.78232998 7.14142843 7.48331477\n",
      " 7.81024968 8.1240384 ]\n",
      "[2.71828183e+00 4.03428793e+02 5.98741417e+04 8.88611052e+06\n",
      " 1.31881573e+09 1.95729609e+11 2.90488497e+13 4.31123155e+15\n",
      " 6.39843494e+17 9.49611942e+19 1.40934908e+22 2.09165950e+24\n",
      " 3.10429794e+26 4.60718663e+28]\n",
      "66\n",
      "[0.         1.79175947 2.39789527 2.77258872 3.04452244 3.25809654\n",
      " 3.4339872  3.58351894 3.71357207 3.8286414  3.93182563 4.02535169\n",
      " 4.11087386 4.18965474]\n"
     ]
    }
   ],
   "source": [
    "# Universal array functions\n",
    "\n",
    "print(ar)\n",
    "\n",
    "print(np.sqrt(ar))\n",
    "\n",
    "print(np.exp(ar))\n",
    "\n",
    "print(np.max(ar))\n",
    "\n",
    "print(np.log(ar))"
   ]
  }
 ],
 "metadata": {
  "kernelspec": {
   "display_name": "Python 3 (ipykernel)",
   "language": "python",
   "name": "python3"
  },
  "language_info": {
   "codemirror_mode": {
    "name": "ipython",
    "version": 3
   },
   "file_extension": ".py",
   "mimetype": "text/x-python",
   "name": "python",
   "nbconvert_exporter": "python",
   "pygments_lexer": "ipython3",
   "version": "3.9.5"
  }
 },
 "nbformat": 4,
 "nbformat_minor": 5
}
